{
 "cells": [
  {
   "cell_type": "code",
   "execution_count": 1,
   "metadata": {},
   "outputs": [
    {
     "name": "stderr",
     "output_type": "stream",
     "text": [
      "d:\\anaconda\\lib\\site-packages\\scipy\\__init__.py:155: UserWarning: A NumPy version >=1.18.5 and <1.25.0 is required for this version of SciPy (detected version 1.26.2\n",
      "  warnings.warn(f\"A NumPy version >={np_minversion} and <{np_maxversion}\"\n"
     ]
    },
    {
     "name": "stdout",
     "output_type": "stream",
     "text": [
      "WARNING:tensorflow:From C:\\Users\\14616\\AppData\\Roaming\\Python\\Python39\\site-packages\\keras\\src\\losses.py:2976: The name tf.losses.sparse_softmax_cross_entropy is deprecated. Please use tf.compat.v1.losses.sparse_softmax_cross_entropy instead.\n",
      "\n",
      "WARNING:tensorflow:From d:\\anaconda\\lib\\site-packages\\libreco\\tfops\\version.py:4: The name tf.disable_v2_behavior is deprecated. Please use tf.compat.v1.disable_v2_behavior instead.\n",
      "\n",
      "WARNING:tensorflow:From C:\\Users\\14616\\AppData\\Roaming\\Python\\Python39\\site-packages\\tensorflow\\python\\compat\\v2_compat.py:108: disable_resource_variables (from tensorflow.python.ops.variable_scope) is deprecated and will be removed in a future version.\n",
      "Instructions for updating:\n",
      "non-resource variables are not supported in the long term\n"
     ]
    }
   ],
   "source": [
    "#pip install LibRecommender\n",
    "# use anaconda kernel\n",
    "import numpy as np\n",
    "import pandas as pd\n",
    "# import torch\n",
    "# import torchvision\n",
    "from libreco.data import random_split, DatasetPure\n",
    "from libreco.algorithms import NCF  # pure data, \n",
    "from libreco.evaluation import evaluate"
   ]
  },
  {
   "cell_type": "code",
   "execution_count": 2,
   "metadata": {},
   "outputs": [
    {
     "data": {
      "text/html": [
       "<div>\n",
       "<style scoped>\n",
       "    .dataframe tbody tr th:only-of-type {\n",
       "        vertical-align: middle;\n",
       "    }\n",
       "\n",
       "    .dataframe tbody tr th {\n",
       "        vertical-align: top;\n",
       "    }\n",
       "\n",
       "    .dataframe thead th {\n",
       "        text-align: right;\n",
       "    }\n",
       "</style>\n",
       "<table border=\"1\" class=\"dataframe\">\n",
       "  <thead>\n",
       "    <tr style=\"text-align: right;\">\n",
       "      <th></th>\n",
       "      <th>user</th>\n",
       "      <th>item</th>\n",
       "      <th>label</th>\n",
       "      <th>time</th>\n",
       "      <th>sex</th>\n",
       "      <th>age</th>\n",
       "      <th>occupation</th>\n",
       "      <th>name</th>\n",
       "      <th>genre1</th>\n",
       "      <th>genre2</th>\n",
       "      <th>genre3</th>\n",
       "    </tr>\n",
       "  </thead>\n",
       "  <tbody>\n",
       "    <tr>\n",
       "      <th>351723</th>\n",
       "      <td>660</td>\n",
       "      <td>3504</td>\n",
       "      <td>3</td>\n",
       "      <td>976740059</td>\n",
       "      <td>M</td>\n",
       "      <td>45</td>\n",
       "      <td>16</td>\n",
       "      <td>Network (1976)</td>\n",
       "      <td>Comedy</td>\n",
       "      <td>Drama</td>\n",
       "      <td>missing</td>\n",
       "    </tr>\n",
       "    <tr>\n",
       "      <th>846985</th>\n",
       "      <td>3421</td>\n",
       "      <td>2504</td>\n",
       "      <td>4</td>\n",
       "      <td>967412033</td>\n",
       "      <td>M</td>\n",
       "      <td>45</td>\n",
       "      <td>7</td>\n",
       "      <td>200 Cigarettes (1999)</td>\n",
       "      <td>Comedy</td>\n",
       "      <td>Drama</td>\n",
       "      <td>missing</td>\n",
       "    </tr>\n",
       "    <tr>\n",
       "      <th>277141</th>\n",
       "      <td>1599</td>\n",
       "      <td>3702</td>\n",
       "      <td>3</td>\n",
       "      <td>974756938</td>\n",
       "      <td>M</td>\n",
       "      <td>25</td>\n",
       "      <td>0</td>\n",
       "      <td>Mad Max (1979)</td>\n",
       "      <td>Action</td>\n",
       "      <td>Sci-Fi</td>\n",
       "      <td>missing</td>\n",
       "    </tr>\n",
       "    <tr>\n",
       "      <th>699266</th>\n",
       "      <td>1907</td>\n",
       "      <td>1927</td>\n",
       "      <td>5</td>\n",
       "      <td>974691674</td>\n",
       "      <td>M</td>\n",
       "      <td>35</td>\n",
       "      <td>17</td>\n",
       "      <td>All Quiet on the Western Front (1930)</td>\n",
       "      <td>War</td>\n",
       "      <td>missing</td>\n",
       "      <td>missing</td>\n",
       "    </tr>\n",
       "    <tr>\n",
       "      <th>643513</th>\n",
       "      <td>1255</td>\n",
       "      <td>1958</td>\n",
       "      <td>2</td>\n",
       "      <td>974823432</td>\n",
       "      <td>M</td>\n",
       "      <td>25</td>\n",
       "      <td>17</td>\n",
       "      <td>Terms of Endearment (1983)</td>\n",
       "      <td>Comedy</td>\n",
       "      <td>Drama</td>\n",
       "      <td>missing</td>\n",
       "    </tr>\n",
       "    <tr>\n",
       "      <th>52114</th>\n",
       "      <td>5485</td>\n",
       "      <td>260</td>\n",
       "      <td>5</td>\n",
       "      <td>959832987</td>\n",
       "      <td>M</td>\n",
       "      <td>25</td>\n",
       "      <td>4</td>\n",
       "      <td>Star Wars: Episode IV - A New Hope (1977)</td>\n",
       "      <td>Action</td>\n",
       "      <td>Adventure</td>\n",
       "      <td>Fantasy</td>\n",
       "    </tr>\n",
       "    <tr>\n",
       "      <th>154883</th>\n",
       "      <td>3053</td>\n",
       "      <td>2539</td>\n",
       "      <td>3</td>\n",
       "      <td>970169878</td>\n",
       "      <td>F</td>\n",
       "      <td>25</td>\n",
       "      <td>3</td>\n",
       "      <td>Analyze This (1999)</td>\n",
       "      <td>Comedy</td>\n",
       "      <td>missing</td>\n",
       "      <td>missing</td>\n",
       "    </tr>\n",
       "    <tr>\n",
       "      <th>927451</th>\n",
       "      <td>356</td>\n",
       "      <td>3499</td>\n",
       "      <td>5</td>\n",
       "      <td>976318285</td>\n",
       "      <td>M</td>\n",
       "      <td>56</td>\n",
       "      <td>20</td>\n",
       "      <td>Misery (1990)</td>\n",
       "      <td>Horror</td>\n",
       "      <td>missing</td>\n",
       "      <td>missing</td>\n",
       "    </tr>\n",
       "    <tr>\n",
       "      <th>779588</th>\n",
       "      <td>5204</td>\n",
       "      <td>260</td>\n",
       "      <td>5</td>\n",
       "      <td>961631626</td>\n",
       "      <td>M</td>\n",
       "      <td>50</td>\n",
       "      <td>13</td>\n",
       "      <td>Star Wars: Episode IV - A New Hope (1977)</td>\n",
       "      <td>Action</td>\n",
       "      <td>Adventure</td>\n",
       "      <td>Fantasy</td>\n",
       "    </tr>\n",
       "    <tr>\n",
       "      <th>241782</th>\n",
       "      <td>4430</td>\n",
       "      <td>781</td>\n",
       "      <td>3</td>\n",
       "      <td>965102575</td>\n",
       "      <td>F</td>\n",
       "      <td>25</td>\n",
       "      <td>0</td>\n",
       "      <td>Stealing Beauty (1996)</td>\n",
       "      <td>Drama</td>\n",
       "      <td>missing</td>\n",
       "      <td>missing</td>\n",
       "    </tr>\n",
       "  </tbody>\n",
       "</table>\n",
       "</div>"
      ],
      "text/plain": [
       "        user  item  label       time sex  age  occupation  \\\n",
       "351723   660  3504      3  976740059   M   45          16   \n",
       "846985  3421  2504      4  967412033   M   45           7   \n",
       "277141  1599  3702      3  974756938   M   25           0   \n",
       "699266  1907  1927      5  974691674   M   35          17   \n",
       "643513  1255  1958      2  974823432   M   25          17   \n",
       "52114   5485   260      5  959832987   M   25           4   \n",
       "154883  3053  2539      3  970169878   F   25           3   \n",
       "927451   356  3499      5  976318285   M   56          20   \n",
       "779588  5204   260      5  961631626   M   50          13   \n",
       "241782  4430   781      3  965102575   F   25           0   \n",
       "\n",
       "                                             name  genre1     genre2   genre3  \n",
       "351723                             Network (1976)  Comedy      Drama  missing  \n",
       "846985                      200 Cigarettes (1999)  Comedy      Drama  missing  \n",
       "277141                             Mad Max (1979)  Action     Sci-Fi  missing  \n",
       "699266      All Quiet on the Western Front (1930)     War    missing  missing  \n",
       "643513                 Terms of Endearment (1983)  Comedy      Drama  missing  \n",
       "52114   Star Wars: Episode IV - A New Hope (1977)  Action  Adventure  Fantasy  \n",
       "154883                        Analyze This (1999)  Comedy    missing  missing  \n",
       "927451                              Misery (1990)  Horror    missing  missing  \n",
       "779588  Star Wars: Episode IV - A New Hope (1977)  Action  Adventure  Fantasy  \n",
       "241782                     Stealing Beauty (1996)   Drama    missing  missing  "
      ]
     },
     "execution_count": 2,
     "metadata": {},
     "output_type": "execute_result"
    }
   ],
   "source": [
    "import random\n",
    "import warnings\n",
    "import zipfile\n",
    "from pathlib import Path\n",
    "\n",
    "import pandas as pd\n",
    "import tensorflow as tf\n",
    "import tqdm\n",
    "warnings.filterwarnings(\"ignore\")\n",
    "\n",
    "\n",
    "def load_ml_1m():\n",
    "    # download and extract zip file\n",
    "    tf.keras.utils.get_file(\n",
    "        \"ml-1m.zip\",\n",
    "        \"http://files.grouplens.org/datasets/movielens/ml-1m.zip\",\n",
    "        cache_dir=\".\",\n",
    "        cache_subdir=\".\",\n",
    "        extract=True,\n",
    "    )\n",
    "    # read and merge data into same table\n",
    "    cur_path = Path(\".\").absolute()\n",
    "    ratings = pd.read_csv(\n",
    "        cur_path / \"ml-1m\" / \"ratings.dat\",\n",
    "        sep=\"::\",\n",
    "        usecols=[0, 1, 2, 3],\n",
    "        names=[\"user\", \"item\", \"rating\", \"time\"],\n",
    "    )\n",
    "    users = pd.read_csv(\n",
    "        cur_path / \"ml-1m\" / \"users.dat\",\n",
    "        sep=\"::\",\n",
    "        usecols=[0, 1, 2, 3],\n",
    "        names=[\"user\", \"sex\", \"age\", \"occupation\"],\n",
    "    )\n",
    "    items = pd.read_csv(\n",
    "        cur_path / \"ml-1m\" / \"movies.dat\",\n",
    "        sep=\"::\",\n",
    "        usecols=[0, 1, 2],\n",
    "        names=[\"item\", \"name\", \"genre\"],\n",
    "        encoding=\"iso-8859-1\",\n",
    "    )\n",
    "    items[[\"genre1\", \"genre2\", \"genre3\"]] = (\n",
    "        items[\"genre\"].str.split(r\"|\", expand=True).fillna(\"missing\").iloc[:, :3]\n",
    "    )\n",
    "    items.drop(\"genre\", axis=1, inplace=True)\n",
    "    data = ratings.merge(users, on=\"user\").merge(items, on=\"item\")\n",
    "    data.rename(columns={\"rating\": \"label\"}, inplace=True)\n",
    "    # random shuffle data\n",
    "    data = data.sample(frac=1, random_state=42).reset_index(drop=True)\n",
    "    return data\n",
    "\n",
    "\n",
    "\n",
    "data = load_ml_1m()\n",
    "data.shape\n",
    "data.iloc[random.choices(range(len(data)), k=10)]  # randomly select 10 rows"
   ]
  },
  {
   "cell_type": "code",
   "execution_count": 3,
   "metadata": {},
   "outputs": [
    {
     "data": {
      "text/html": [
       "<div>\n",
       "<style scoped>\n",
       "    .dataframe tbody tr th:only-of-type {\n",
       "        vertical-align: middle;\n",
       "    }\n",
       "\n",
       "    .dataframe tbody tr th {\n",
       "        vertical-align: top;\n",
       "    }\n",
       "\n",
       "    .dataframe thead th {\n",
       "        text-align: right;\n",
       "    }\n",
       "</style>\n",
       "<table border=\"1\" class=\"dataframe\">\n",
       "  <thead>\n",
       "    <tr style=\"text-align: right;\">\n",
       "      <th></th>\n",
       "      <th>user</th>\n",
       "      <th>item</th>\n",
       "      <th>label</th>\n",
       "      <th>time</th>\n",
       "      <th>sex</th>\n",
       "      <th>age</th>\n",
       "      <th>occupation</th>\n",
       "      <th>name</th>\n",
       "      <th>genre1</th>\n",
       "      <th>genre2</th>\n",
       "      <th>genre3</th>\n",
       "    </tr>\n",
       "  </thead>\n",
       "  <tbody>\n",
       "    <tr>\n",
       "      <th>0</th>\n",
       "      <td>5755</td>\n",
       "      <td>184</td>\n",
       "      <td>3</td>\n",
       "      <td>958280246</td>\n",
       "      <td>F</td>\n",
       "      <td>35</td>\n",
       "      <td>2</td>\n",
       "      <td>Nadja (1994)</td>\n",
       "      <td>Drama</td>\n",
       "      <td>missing</td>\n",
       "      <td>missing</td>\n",
       "    </tr>\n",
       "    <tr>\n",
       "      <th>11</th>\n",
       "      <td>4268</td>\n",
       "      <td>2098</td>\n",
       "      <td>4</td>\n",
       "      <td>965306369</td>\n",
       "      <td>F</td>\n",
       "      <td>45</td>\n",
       "      <td>20</td>\n",
       "      <td>Son of Flubber (1963)</td>\n",
       "      <td>Children's</td>\n",
       "      <td>Comedy</td>\n",
       "      <td>missing</td>\n",
       "    </tr>\n",
       "    <tr>\n",
       "      <th>15</th>\n",
       "      <td>3770</td>\n",
       "      <td>590</td>\n",
       "      <td>5</td>\n",
       "      <td>966050693</td>\n",
       "      <td>F</td>\n",
       "      <td>35</td>\n",
       "      <td>3</td>\n",
       "      <td>Dances with Wolves (1990)</td>\n",
       "      <td>Adventure</td>\n",
       "      <td>Drama</td>\n",
       "      <td>Western</td>\n",
       "    </tr>\n",
       "    <tr>\n",
       "      <th>16</th>\n",
       "      <td>1602</td>\n",
       "      <td>2028</td>\n",
       "      <td>4</td>\n",
       "      <td>974733468</td>\n",
       "      <td>F</td>\n",
       "      <td>25</td>\n",
       "      <td>7</td>\n",
       "      <td>Saving Private Ryan (1998)</td>\n",
       "      <td>Action</td>\n",
       "      <td>Drama</td>\n",
       "      <td>War</td>\n",
       "    </tr>\n",
       "    <tr>\n",
       "      <th>19</th>\n",
       "      <td>4517</td>\n",
       "      <td>1381</td>\n",
       "      <td>1</td>\n",
       "      <td>991034706</td>\n",
       "      <td>F</td>\n",
       "      <td>18</td>\n",
       "      <td>1</td>\n",
       "      <td>Grease 2 (1982)</td>\n",
       "      <td>Comedy</td>\n",
       "      <td>Musical</td>\n",
       "      <td>Romance</td>\n",
       "    </tr>\n",
       "    <tr>\n",
       "      <th>...</th>\n",
       "      <td>...</td>\n",
       "      <td>...</td>\n",
       "      <td>...</td>\n",
       "      <td>...</td>\n",
       "      <td>...</td>\n",
       "      <td>...</td>\n",
       "      <td>...</td>\n",
       "      <td>...</td>\n",
       "      <td>...</td>\n",
       "      <td>...</td>\n",
       "      <td>...</td>\n",
       "    </tr>\n",
       "    <tr>\n",
       "      <th>1000198</th>\n",
       "      <td>3592</td>\n",
       "      <td>560</td>\n",
       "      <td>4</td>\n",
       "      <td>966646657</td>\n",
       "      <td>F</td>\n",
       "      <td>56</td>\n",
       "      <td>2</td>\n",
       "      <td>Beans of Egypt, Maine, The (1994)</td>\n",
       "      <td>Drama</td>\n",
       "      <td>missing</td>\n",
       "      <td>missing</td>\n",
       "    </tr>\n",
       "    <tr>\n",
       "      <th>1000199</th>\n",
       "      <td>3349</td>\n",
       "      <td>593</td>\n",
       "      <td>5</td>\n",
       "      <td>967749429</td>\n",
       "      <td>F</td>\n",
       "      <td>18</td>\n",
       "      <td>4</td>\n",
       "      <td>Silence of the Lambs, The (1991)</td>\n",
       "      <td>Drama</td>\n",
       "      <td>Thriller</td>\n",
       "      <td>missing</td>\n",
       "    </tr>\n",
       "    <tr>\n",
       "      <th>1000200</th>\n",
       "      <td>5974</td>\n",
       "      <td>2028</td>\n",
       "      <td>4</td>\n",
       "      <td>956947181</td>\n",
       "      <td>F</td>\n",
       "      <td>25</td>\n",
       "      <td>1</td>\n",
       "      <td>Saving Private Ryan (1998)</td>\n",
       "      <td>Action</td>\n",
       "      <td>Drama</td>\n",
       "      <td>War</td>\n",
       "    </tr>\n",
       "    <tr>\n",
       "      <th>1000201</th>\n",
       "      <td>721</td>\n",
       "      <td>3435</td>\n",
       "      <td>4</td>\n",
       "      <td>994084782</td>\n",
       "      <td>F</td>\n",
       "      <td>35</td>\n",
       "      <td>9</td>\n",
       "      <td>Double Indemnity (1944)</td>\n",
       "      <td>Crime</td>\n",
       "      <td>Film-Noir</td>\n",
       "      <td>missing</td>\n",
       "    </tr>\n",
       "    <tr>\n",
       "      <th>1000206</th>\n",
       "      <td>3609</td>\n",
       "      <td>1552</td>\n",
       "      <td>3</td>\n",
       "      <td>966614629</td>\n",
       "      <td>F</td>\n",
       "      <td>25</td>\n",
       "      <td>17</td>\n",
       "      <td>Con Air (1997)</td>\n",
       "      <td>Action</td>\n",
       "      <td>Adventure</td>\n",
       "      <td>Thriller</td>\n",
       "    </tr>\n",
       "  </tbody>\n",
       "</table>\n",
       "<p>246440 rows × 11 columns</p>\n",
       "</div>"
      ],
      "text/plain": [
       "         user  item  label       time sex  age  occupation  \\\n",
       "0        5755   184      3  958280246   F   35           2   \n",
       "11       4268  2098      4  965306369   F   45          20   \n",
       "15       3770   590      5  966050693   F   35           3   \n",
       "16       1602  2028      4  974733468   F   25           7   \n",
       "19       4517  1381      1  991034706   F   18           1   \n",
       "...       ...   ...    ...        ...  ..  ...         ...   \n",
       "1000198  3592   560      4  966646657   F   56           2   \n",
       "1000199  3349   593      5  967749429   F   18           4   \n",
       "1000200  5974  2028      4  956947181   F   25           1   \n",
       "1000201   721  3435      4  994084782   F   35           9   \n",
       "1000206  3609  1552      3  966614629   F   25          17   \n",
       "\n",
       "                                      name      genre1     genre2    genre3  \n",
       "0                             Nadja (1994)       Drama    missing   missing  \n",
       "11                   Son of Flubber (1963)  Children's     Comedy   missing  \n",
       "15               Dances with Wolves (1990)   Adventure      Drama   Western  \n",
       "16              Saving Private Ryan (1998)      Action      Drama       War  \n",
       "19                         Grease 2 (1982)      Comedy    Musical   Romance  \n",
       "...                                    ...         ...        ...       ...  \n",
       "1000198  Beans of Egypt, Maine, The (1994)       Drama    missing   missing  \n",
       "1000199   Silence of the Lambs, The (1991)       Drama   Thriller   missing  \n",
       "1000200         Saving Private Ryan (1998)      Action      Drama       War  \n",
       "1000201            Double Indemnity (1944)       Crime  Film-Noir   missing  \n",
       "1000206                     Con Air (1997)      Action  Adventure  Thriller  \n",
       "\n",
       "[246440 rows x 11 columns]"
      ]
     },
     "execution_count": 3,
     "metadata": {},
     "output_type": "execute_result"
    }
   ],
   "source": [
    "# Splitting the DataFrame based on the 'sex' column\n",
    "data_male = data[data['sex'] == 'M']\n",
    "data_female = data[data['sex'] == 'F']\n",
    "\n",
    "data_male\n",
    "data_female"
   ]
  },
  {
   "cell_type": "code",
   "execution_count": 4,
   "metadata": {},
   "outputs": [],
   "source": [
    "# movies_dict = {}\n",
    "# for i, row in data.iterrows():\n",
    "#     movies_dict[row['item']] = row['name']\n",
    "\n",
    "# movies_dict"
   ]
  },
  {
   "cell_type": "code",
   "execution_count": 5,
   "metadata": {},
   "outputs": [],
   "source": [
    "# len(movies_dict)"
   ]
  },
  {
   "cell_type": "code",
   "execution_count": 6,
   "metadata": {},
   "outputs": [
    {
     "data": {
      "text/html": [
       "<div>\n",
       "<style scoped>\n",
       "    .dataframe tbody tr th:only-of-type {\n",
       "        vertical-align: middle;\n",
       "    }\n",
       "\n",
       "    .dataframe tbody tr th {\n",
       "        vertical-align: top;\n",
       "    }\n",
       "\n",
       "    .dataframe thead th {\n",
       "        text-align: right;\n",
       "    }\n",
       "</style>\n",
       "<table border=\"1\" class=\"dataframe\">\n",
       "  <thead>\n",
       "    <tr style=\"text-align: right;\">\n",
       "      <th></th>\n",
       "      <th>user</th>\n",
       "      <th>item</th>\n",
       "      <th>label</th>\n",
       "      <th>time</th>\n",
       "    </tr>\n",
       "  </thead>\n",
       "  <tbody>\n",
       "    <tr>\n",
       "      <th>0</th>\n",
       "      <td>5755</td>\n",
       "      <td>184</td>\n",
       "      <td>3</td>\n",
       "      <td>958280246</td>\n",
       "    </tr>\n",
       "    <tr>\n",
       "      <th>1</th>\n",
       "      <td>4585</td>\n",
       "      <td>519</td>\n",
       "      <td>3</td>\n",
       "      <td>964321944</td>\n",
       "    </tr>\n",
       "    <tr>\n",
       "      <th>2</th>\n",
       "      <td>1503</td>\n",
       "      <td>3114</td>\n",
       "      <td>4</td>\n",
       "      <td>974762175</td>\n",
       "    </tr>\n",
       "    <tr>\n",
       "      <th>3</th>\n",
       "      <td>2166</td>\n",
       "      <td>648</td>\n",
       "      <td>4</td>\n",
       "      <td>974614593</td>\n",
       "    </tr>\n",
       "    <tr>\n",
       "      <th>4</th>\n",
       "      <td>3201</td>\n",
       "      <td>2178</td>\n",
       "      <td>5</td>\n",
       "      <td>968626301</td>\n",
       "    </tr>\n",
       "    <tr>\n",
       "      <th>...</th>\n",
       "      <td>...</td>\n",
       "      <td>...</td>\n",
       "      <td>...</td>\n",
       "      <td>...</td>\n",
       "    </tr>\n",
       "    <tr>\n",
       "      <th>1000204</th>\n",
       "      <td>1509</td>\n",
       "      <td>2716</td>\n",
       "      <td>4</td>\n",
       "      <td>974747653</td>\n",
       "    </tr>\n",
       "    <tr>\n",
       "      <th>1000205</th>\n",
       "      <td>3756</td>\n",
       "      <td>1411</td>\n",
       "      <td>5</td>\n",
       "      <td>966096744</td>\n",
       "    </tr>\n",
       "    <tr>\n",
       "      <th>1000206</th>\n",
       "      <td>3609</td>\n",
       "      <td>1552</td>\n",
       "      <td>3</td>\n",
       "      <td>966614629</td>\n",
       "    </tr>\n",
       "    <tr>\n",
       "      <th>1000207</th>\n",
       "      <td>4169</td>\n",
       "      <td>3639</td>\n",
       "      <td>4</td>\n",
       "      <td>971579005</td>\n",
       "    </tr>\n",
       "    <tr>\n",
       "      <th>1000208</th>\n",
       "      <td>5627</td>\n",
       "      <td>1265</td>\n",
       "      <td>3</td>\n",
       "      <td>959047455</td>\n",
       "    </tr>\n",
       "  </tbody>\n",
       "</table>\n",
       "<p>1000209 rows × 4 columns</p>\n",
       "</div>"
      ],
      "text/plain": [
       "         user  item  label       time\n",
       "0        5755   184      3  958280246\n",
       "1        4585   519      3  964321944\n",
       "2        1503  3114      4  974762175\n",
       "3        2166   648      4  974614593\n",
       "4        3201  2178      5  968626301\n",
       "...       ...   ...    ...        ...\n",
       "1000204  1509  2716      4  974747653\n",
       "1000205  3756  1411      5  966096744\n",
       "1000206  3609  1552      3  966614629\n",
       "1000207  4169  3639      4  971579005\n",
       "1000208  5627  1265      3  959047455\n",
       "\n",
       "[1000209 rows x 4 columns]"
      ]
     },
     "execution_count": 6,
     "metadata": {},
     "output_type": "execute_result"
    }
   ],
   "source": [
    "data = data[['user', 'item', 'label', 'time']]\n",
    "data_male = data_male[['user', 'item', 'label', 'time']]\n",
    "data_female = data_female[['user', 'item', 'label', 'time']]\n",
    "data"
   ]
  },
  {
   "cell_type": "code",
   "execution_count": 7,
   "metadata": {},
   "outputs": [],
   "source": [
    "train_data, eval_data, test_data = random_split(data, multi_ratios=[0.8, 0.1, 0.1])\n",
    "train_data, data_info= DatasetPure.build_trainset(train_data)\n",
    "eval_data = DatasetPure.build_evalset(eval_data)\n",
    "test_data = DatasetPure.build_testset(test_data)\n",
    "# DatasetPure is indicative of the fact we are not using any other feature other than the interaction between the user and an item.\n",
    "#  Hence, this function builds the datasets from a Pure Collaborative Filtering perspective."
   ]
  },
  {
   "cell_type": "code",
   "execution_count": 8,
   "metadata": {},
   "outputs": [],
   "source": [
    "train_data_M, eval_data_M, test_data_M = random_split(data_male, multi_ratios=[0.8, 0.1, 0.1])\n",
    "train_data_M, data_info_M= DatasetPure.build_trainset(train_data_M)\n",
    "eval_data_M = DatasetPure.build_evalset(eval_data_M)\n",
    "test_data_M = DatasetPure.build_testset(test_data_M)\n",
    "\n",
    "train_data_F, eval_data_F, test_data_F = random_split(data_female, multi_ratios=[0.8, 0.1, 0.1])\n",
    "train_data_F, data_info_F= DatasetPure.build_trainset(train_data_F)\n",
    "eval_data_F = DatasetPure.build_evalset(eval_data_F)\n",
    "test_data_F = DatasetPure.build_testset(test_data_F)"
   ]
  },
  {
   "cell_type": "code",
   "execution_count": 9,
   "metadata": {},
   "outputs": [
    {
     "data": {
      "text/plain": [
       "<libreco.data.transformed.TransformedSet at 0x22145dd3700>"
      ]
     },
     "execution_count": 9,
     "metadata": {},
     "output_type": "execute_result"
    }
   ],
   "source": [
    "train_data\n",
    "train_data_M"
   ]
  },
  {
   "cell_type": "code",
   "execution_count": 10,
   "metadata": {},
   "outputs": [
    {
     "name": "stdout",
     "output_type": "stream",
     "text": [
      "Training start time: \u001b[35m2023-12-06 20:15:09\u001b[0m\n",
      "WARNING:tensorflow:From C:\\Users\\14616\\AppData\\Roaming\\Python\\Python39\\site-packages\\keras\\src\\utils\\version_utils.py:76: The name tf.executing_eagerly_outside_functions is deprecated. Please use tf.compat.v1.executing_eagerly_outside_functions instead.\n",
      "\n"
     ]
    },
    {
     "name": "stderr",
     "output_type": "stream",
     "text": [
      "2023-12-06 20:15:09,705 - WARNING - From C:\\Users\\14616\\AppData\\Roaming\\Python\\Python39\\site-packages\\keras\\src\\utils\\version_utils.py:76: The name tf.executing_eagerly_outside_functions is deprecated. Please use tf.compat.v1.executing_eagerly_outside_functions instead.\n",
      "\n"
     ]
    },
    {
     "name": "stdout",
     "output_type": "stream",
     "text": [
      "WARNING:tensorflow:From C:\\Users\\14616\\AppData\\Roaming\\Python\\Python39\\site-packages\\keras\\src\\layers\\normalization\\batch_normalization.py:883: _colocate_with (from tensorflow.python.framework.ops) is deprecated and will be removed in a future version.\n",
      "Instructions for updating:\n",
      "Colocations handled automatically by placer.\n"
     ]
    },
    {
     "name": "stderr",
     "output_type": "stream",
     "text": [
      "2023-12-06 20:15:09,730 - WARNING - From C:\\Users\\14616\\AppData\\Roaming\\Python\\Python39\\site-packages\\keras\\src\\layers\\normalization\\batch_normalization.py:883: _colocate_with (from tensorflow.python.framework.ops) is deprecated and will be removed in a future version.\n",
      "Instructions for updating:\n",
      "Colocations handled automatically by placer.\n"
     ]
    },
    {
     "name": "stdout",
     "output_type": "stream",
     "text": [
      "WARNING:tensorflow:From d:\\anaconda\\lib\\site-packages\\libreco\\training\\tf_trainer.py:120: The name tf.train.AdamOptimizer is deprecated. Please use tf.compat.v1.train.AdamOptimizer instead.\n",
      "\n"
     ]
    },
    {
     "name": "stderr",
     "output_type": "stream",
     "text": [
      "2023-12-06 20:15:09,939 - WARNING - From d:\\anaconda\\lib\\site-packages\\libreco\\training\\tf_trainer.py:120: The name tf.train.AdamOptimizer is deprecated. Please use tf.compat.v1.train.AdamOptimizer instead.\n",
      "\n",
      "train: 100%|██████████| 782/782 [00:03<00:00, 206.69it/s]\n"
     ]
    },
    {
     "name": "stdout",
     "output_type": "stream",
     "text": [
      "Epoch 1 elapsed: 3.785s\n",
      "\t \u001b[32mtrain_loss: 1.8547\u001b[0m\n"
     ]
    },
    {
     "name": "stderr",
     "output_type": "stream",
     "text": [
      "eval_pointwise: 100%|██████████| 13/13 [00:00<00:00, 94.79it/s]\n"
     ]
    },
    {
     "name": "stdout",
     "output_type": "stream",
     "text": [
      "\t eval rmse: 0.9399\n",
      "==============================\n"
     ]
    },
    {
     "name": "stderr",
     "output_type": "stream",
     "text": [
      "train: 100%|██████████| 782/782 [00:03<00:00, 220.65it/s]\n"
     ]
    },
    {
     "name": "stdout",
     "output_type": "stream",
     "text": [
      "Epoch 2 elapsed: 3.546s\n",
      "\t \u001b[32mtrain_loss: 0.8379\u001b[0m\n"
     ]
    },
    {
     "name": "stderr",
     "output_type": "stream",
     "text": [
      "eval_pointwise: 100%|██████████| 13/13 [00:00<00:00, 140.16it/s]\n"
     ]
    },
    {
     "name": "stdout",
     "output_type": "stream",
     "text": [
      "\t eval rmse: 0.9275\n",
      "==============================\n"
     ]
    },
    {
     "name": "stderr",
     "output_type": "stream",
     "text": [
      "train: 100%|██████████| 782/782 [00:03<00:00, 219.36it/s]\n"
     ]
    },
    {
     "name": "stdout",
     "output_type": "stream",
     "text": [
      "Epoch 3 elapsed: 3.567s\n",
      "\t \u001b[32mtrain_loss: 0.8042\u001b[0m\n"
     ]
    },
    {
     "name": "stderr",
     "output_type": "stream",
     "text": [
      "eval_pointwise: 100%|██████████| 13/13 [00:00<00:00, 147.25it/s]\n"
     ]
    },
    {
     "name": "stdout",
     "output_type": "stream",
     "text": [
      "\t eval rmse: 0.9247\n",
      "==============================\n"
     ]
    },
    {
     "name": "stderr",
     "output_type": "stream",
     "text": [
      "train: 100%|██████████| 782/782 [00:03<00:00, 227.20it/s]\n"
     ]
    },
    {
     "name": "stdout",
     "output_type": "stream",
     "text": [
      "Epoch 4 elapsed: 3.444s\n",
      "\t \u001b[32mtrain_loss: 0.7825\u001b[0m\n"
     ]
    },
    {
     "name": "stderr",
     "output_type": "stream",
     "text": [
      "eval_pointwise: 100%|██████████| 13/13 [00:00<00:00, 151.57it/s]\n"
     ]
    },
    {
     "name": "stdout",
     "output_type": "stream",
     "text": [
      "\t eval rmse: 0.9160\n",
      "==============================\n"
     ]
    },
    {
     "name": "stderr",
     "output_type": "stream",
     "text": [
      "train: 100%|██████████| 782/782 [00:03<00:00, 219.81it/s]\n"
     ]
    },
    {
     "name": "stdout",
     "output_type": "stream",
     "text": [
      "Epoch 5 elapsed: 3.560s\n",
      "\t \u001b[32mtrain_loss: 0.7642\u001b[0m\n"
     ]
    },
    {
     "name": "stderr",
     "output_type": "stream",
     "text": [
      "eval_pointwise: 100%|██████████| 13/13 [00:00<00:00, 141.68it/s]\n"
     ]
    },
    {
     "name": "stdout",
     "output_type": "stream",
     "text": [
      "\t eval rmse: 0.9154\n",
      "==============================\n"
     ]
    },
    {
     "name": "stderr",
     "output_type": "stream",
     "text": [
      "train: 100%|██████████| 782/782 [00:03<00:00, 219.45it/s]\n"
     ]
    },
    {
     "name": "stdout",
     "output_type": "stream",
     "text": [
      "Epoch 6 elapsed: 3.566s\n",
      "\t \u001b[32mtrain_loss: 0.7469\u001b[0m\n"
     ]
    },
    {
     "name": "stderr",
     "output_type": "stream",
     "text": [
      "eval_pointwise: 100%|██████████| 13/13 [00:00<00:00, 153.35it/s]\n"
     ]
    },
    {
     "name": "stdout",
     "output_type": "stream",
     "text": [
      "\t eval rmse: 0.9103\n",
      "==============================\n"
     ]
    },
    {
     "name": "stderr",
     "output_type": "stream",
     "text": [
      "train: 100%|██████████| 782/782 [00:03<00:00, 220.51it/s]\n"
     ]
    },
    {
     "name": "stdout",
     "output_type": "stream",
     "text": [
      "Epoch 7 elapsed: 3.549s\n",
      "\t \u001b[32mtrain_loss: 0.7313\u001b[0m\n"
     ]
    },
    {
     "name": "stderr",
     "output_type": "stream",
     "text": [
      "eval_pointwise: 100%|██████████| 13/13 [00:00<00:00, 135.78it/s]\n"
     ]
    },
    {
     "name": "stdout",
     "output_type": "stream",
     "text": [
      "\t eval rmse: 0.9106\n",
      "==============================\n"
     ]
    },
    {
     "name": "stderr",
     "output_type": "stream",
     "text": [
      "train: 100%|██████████| 782/782 [00:03<00:00, 223.32it/s]\n"
     ]
    },
    {
     "name": "stdout",
     "output_type": "stream",
     "text": [
      "Epoch 8 elapsed: 3.503s\n",
      "\t \u001b[32mtrain_loss: 0.7166\u001b[0m\n"
     ]
    },
    {
     "name": "stderr",
     "output_type": "stream",
     "text": [
      "eval_pointwise: 100%|██████████| 13/13 [00:00<00:00, 148.12it/s]\n"
     ]
    },
    {
     "name": "stdout",
     "output_type": "stream",
     "text": [
      "\t eval rmse: 0.9090\n",
      "==============================\n"
     ]
    },
    {
     "name": "stderr",
     "output_type": "stream",
     "text": [
      "train: 100%|██████████| 782/782 [00:03<00:00, 230.71it/s]\n"
     ]
    },
    {
     "name": "stdout",
     "output_type": "stream",
     "text": [
      "Epoch 9 elapsed: 3.392s\n",
      "\t \u001b[32mtrain_loss: 0.7025\u001b[0m\n"
     ]
    },
    {
     "name": "stderr",
     "output_type": "stream",
     "text": [
      "eval_pointwise: 100%|██████████| 13/13 [00:00<00:00, 149.58it/s]\n"
     ]
    },
    {
     "name": "stdout",
     "output_type": "stream",
     "text": [
      "\t eval rmse: 0.9077\n",
      "==============================\n"
     ]
    },
    {
     "name": "stderr",
     "output_type": "stream",
     "text": [
      "train: 100%|██████████| 782/782 [00:03<00:00, 226.95it/s]\n"
     ]
    },
    {
     "name": "stdout",
     "output_type": "stream",
     "text": [
      "Epoch 10 elapsed: 3.447s\n",
      "\t \u001b[32mtrain_loss: 0.6907\u001b[0m\n"
     ]
    },
    {
     "name": "stderr",
     "output_type": "stream",
     "text": [
      "eval_pointwise: 100%|██████████| 13/13 [00:00<00:00, 151.57it/s]\n"
     ]
    },
    {
     "name": "stdout",
     "output_type": "stream",
     "text": [
      "\t eval rmse: 0.9107\n",
      "==============================\n"
     ]
    },
    {
     "name": "stderr",
     "output_type": "stream",
     "text": [
      "train: 100%|██████████| 782/782 [00:03<00:00, 206.15it/s]\n"
     ]
    },
    {
     "name": "stdout",
     "output_type": "stream",
     "text": [
      "Epoch 11 elapsed: 3.795s\n",
      "\t \u001b[32mtrain_loss: 0.6792\u001b[0m\n"
     ]
    },
    {
     "name": "stderr",
     "output_type": "stream",
     "text": [
      "eval_pointwise: 100%|██████████| 13/13 [00:00<00:00, 151.56it/s]\n"
     ]
    },
    {
     "name": "stdout",
     "output_type": "stream",
     "text": [
      "\t eval rmse: 0.9104\n",
      "==============================\n"
     ]
    },
    {
     "name": "stderr",
     "output_type": "stream",
     "text": [
      "train: 100%|██████████| 782/782 [00:03<00:00, 227.95it/s]\n"
     ]
    },
    {
     "name": "stdout",
     "output_type": "stream",
     "text": [
      "Epoch 12 elapsed: 3.433s\n",
      "\t \u001b[32mtrain_loss: 0.6685\u001b[0m\n"
     ]
    },
    {
     "name": "stderr",
     "output_type": "stream",
     "text": [
      "eval_pointwise: 100%|██████████| 13/13 [00:00<00:00, 146.46it/s]\n"
     ]
    },
    {
     "name": "stdout",
     "output_type": "stream",
     "text": [
      "\t eval rmse: 0.9129\n",
      "==============================\n"
     ]
    },
    {
     "name": "stderr",
     "output_type": "stream",
     "text": [
      "train: 100%|██████████| 782/782 [00:03<00:00, 228.77it/s]\n"
     ]
    },
    {
     "name": "stdout",
     "output_type": "stream",
     "text": [
      "Epoch 13 elapsed: 3.421s\n",
      "\t \u001b[32mtrain_loss: 0.6594\u001b[0m\n"
     ]
    },
    {
     "name": "stderr",
     "output_type": "stream",
     "text": [
      "eval_pointwise: 100%|██████████| 13/13 [00:00<00:00, 155.17it/s]\n"
     ]
    },
    {
     "name": "stdout",
     "output_type": "stream",
     "text": [
      "\t eval rmse: 0.9117\n",
      "==============================\n"
     ]
    },
    {
     "name": "stderr",
     "output_type": "stream",
     "text": [
      "train: 100%|██████████| 782/782 [00:03<00:00, 224.36it/s]\n"
     ]
    },
    {
     "name": "stdout",
     "output_type": "stream",
     "text": [
      "Epoch 14 elapsed: 3.488s\n",
      "\t \u001b[32mtrain_loss: 0.651\u001b[0m\n"
     ]
    },
    {
     "name": "stderr",
     "output_type": "stream",
     "text": [
      "eval_pointwise: 100%|██████████| 13/13 [00:00<00:00, 148.12it/s]\n"
     ]
    },
    {
     "name": "stdout",
     "output_type": "stream",
     "text": [
      "\t eval rmse: 0.9149\n",
      "==============================\n"
     ]
    },
    {
     "name": "stderr",
     "output_type": "stream",
     "text": [
      "train: 100%|██████████| 782/782 [00:03<00:00, 210.42it/s]\n"
     ]
    },
    {
     "name": "stdout",
     "output_type": "stream",
     "text": [
      "Epoch 15 elapsed: 3.719s\n",
      "\t \u001b[32mtrain_loss: 0.6423\u001b[0m\n"
     ]
    },
    {
     "name": "stderr",
     "output_type": "stream",
     "text": [
      "eval_pointwise: 100%|██████████| 13/13 [00:00<00:00, 183.59it/s]\n"
     ]
    },
    {
     "name": "stdout",
     "output_type": "stream",
     "text": [
      "\t eval rmse: 0.9200\n",
      "==============================\n"
     ]
    },
    {
     "name": "stderr",
     "output_type": "stream",
     "text": [
      "train: 100%|██████████| 782/782 [00:02<00:00, 261.94it/s]\n"
     ]
    },
    {
     "name": "stdout",
     "output_type": "stream",
     "text": [
      "Epoch 16 elapsed: 2.987s\n",
      "\t \u001b[32mtrain_loss: 0.6366\u001b[0m\n"
     ]
    },
    {
     "name": "stderr",
     "output_type": "stream",
     "text": [
      "eval_pointwise: 100%|██████████| 13/13 [00:00<00:00, 173.80it/s]\n"
     ]
    },
    {
     "name": "stdout",
     "output_type": "stream",
     "text": [
      "\t eval rmse: 0.9205\n",
      "==============================\n"
     ]
    },
    {
     "name": "stderr",
     "output_type": "stream",
     "text": [
      "train: 100%|██████████| 782/782 [00:03<00:00, 244.40it/s]\n"
     ]
    },
    {
     "name": "stdout",
     "output_type": "stream",
     "text": [
      "Epoch 17 elapsed: 3.202s\n",
      "\t \u001b[32mtrain_loss: 0.629\u001b[0m\n"
     ]
    },
    {
     "name": "stderr",
     "output_type": "stream",
     "text": [
      "eval_pointwise: 100%|██████████| 13/13 [00:00<00:00, 159.91it/s]\n"
     ]
    },
    {
     "name": "stdout",
     "output_type": "stream",
     "text": [
      "\t eval rmse: 0.9240\n",
      "==============================\n"
     ]
    },
    {
     "name": "stderr",
     "output_type": "stream",
     "text": [
      "train: 100%|██████████| 782/782 [00:03<00:00, 248.80it/s]\n"
     ]
    },
    {
     "name": "stdout",
     "output_type": "stream",
     "text": [
      "Epoch 18 elapsed: 3.145s\n",
      "\t \u001b[32mtrain_loss: 0.6227\u001b[0m\n"
     ]
    },
    {
     "name": "stderr",
     "output_type": "stream",
     "text": [
      "eval_pointwise: 100%|██████████| 13/13 [00:00<00:00, 183.59it/s]\n"
     ]
    },
    {
     "name": "stdout",
     "output_type": "stream",
     "text": [
      "\t eval rmse: 0.9204\n",
      "==============================\n"
     ]
    },
    {
     "name": "stderr",
     "output_type": "stream",
     "text": [
      "train: 100%|██████████| 782/782 [00:03<00:00, 256.58it/s]\n"
     ]
    },
    {
     "name": "stdout",
     "output_type": "stream",
     "text": [
      "Epoch 19 elapsed: 3.050s\n",
      "\t \u001b[32mtrain_loss: 0.6178\u001b[0m\n"
     ]
    },
    {
     "name": "stderr",
     "output_type": "stream",
     "text": [
      "eval_pointwise: 100%|██████████| 13/13 [00:00<00:00, 162.93it/s]\n"
     ]
    },
    {
     "name": "stdout",
     "output_type": "stream",
     "text": [
      "\t eval rmse: 0.9239\n",
      "==============================\n"
     ]
    },
    {
     "name": "stderr",
     "output_type": "stream",
     "text": [
      "train: 100%|██████████| 782/782 [00:03<00:00, 253.12it/s]\n"
     ]
    },
    {
     "name": "stdout",
     "output_type": "stream",
     "text": [
      "Epoch 20 elapsed: 3.092s\n",
      "\t \u001b[32mtrain_loss: 0.6129\u001b[0m\n"
     ]
    },
    {
     "name": "stderr",
     "output_type": "stream",
     "text": [
      "eval_pointwise: 100%|██████████| 13/13 [00:00<00:00, 171.51it/s]\n"
     ]
    },
    {
     "name": "stdout",
     "output_type": "stream",
     "text": [
      "\t eval rmse: 0.9286\n",
      "==============================\n"
     ]
    },
    {
     "name": "stderr",
     "output_type": "stream",
     "text": [
      "eval_pointwise: 100%|██████████| 13/13 [00:00<00:00, 177.18it/s]\n"
     ]
    },
    {
     "data": {
      "text/plain": [
       "{'loss': 0.9289411}"
      ]
     },
     "execution_count": 10,
     "metadata": {},
     "output_type": "execute_result"
    }
   ],
   "source": [
    "ncf = NCF(\n",
    "    task=\"rating\",\n",
    "    data_info=data_info,\n",
    "    loss_type=\"cross_entropy\",\n",
    "    embed_size=16,\n",
    "    n_epochs=20,\n",
    "    lr=1e-3,\n",
    "    batch_size=2048,\n",
    "    num_neg=1,\n",
    ")\n",
    "\n",
    "# monitor metrics on eval data during training\n",
    "ncf.fit(\n",
    "    train_data,\n",
    "    neg_sampling=False, #for rating, this param is false else True\n",
    "    verbose=2,\n",
    "    eval_data=eval_data,\n",
    "    metrics=[\"loss\"],\n",
    ")\n",
    "\n",
    "# do final evaluation on test data\n",
    "evaluate(\n",
    "    model=ncf,\n",
    "    data=test_data,\n",
    "    neg_sampling=False,\n",
    "    metrics=[\"loss\"],\n",
    ")\n",
    "#for implicit feedback, metrics like precision@k, recall@k, ndcg can be used"
   ]
  },
  {
   "cell_type": "code",
   "execution_count": 11,
   "metadata": {},
   "outputs": [],
   "source": [
    "# predict preference of user 5755 to item 110\n",
    "# ncf.predict(user=5755, item=110)\n",
    "\n",
    "# # recommend 10items for user 5755\n",
    "# ncf.recommend_user(user=5755, n_rec=10)"
   ]
  },
  {
   "cell_type": "code",
   "execution_count": 12,
   "metadata": {},
   "outputs": [],
   "source": [
    "# ncfM = NCF(\n",
    "#     task=\"rating\",\n",
    "#     data_info=data_info_M,\n",
    "#     loss_type=\"cross_entropy\",\n",
    "#     embed_size=16,\n",
    "#     n_epochs=20,\n",
    "#     lr=1e-3,\n",
    "#     batch_size=1024,\n",
    "#     num_neg=1,\n",
    "# )\n",
    "\n",
    "# # monitor metrics on eval data during training\n",
    "# ncf.fit(\n",
    "#     train_data_M,\n",
    "#     neg_sampling=False, #for rating, this param is false else True\n",
    "#     verbose=2,\n",
    "#     eval_data=eval_data_M,\n",
    "#     metrics=[\"loss\"],\n",
    "# )\n",
    "\n",
    "# # do final evaluation on test data\n",
    "# evaluate(\n",
    "#     model=ncf,\n",
    "#     data=test_data_M,\n",
    "#     neg_sampling=False,\n",
    "#     metrics=[\"loss\"],\n",
    "# )"
   ]
  },
  {
   "cell_type": "code",
   "execution_count": 13,
   "metadata": {},
   "outputs": [],
   "source": [
    "# ncfM = NCF(\n",
    "#     task=\"rating\",\n",
    "#     data_info=data_info_M,\n",
    "#     loss_type=\"cross_entropy\",\n",
    "#     embed_size=16,\n",
    "#     n_epochs=20,\n",
    "#     lr=1e-3,\n",
    "#     batch_size=2048,\n",
    "#     num_neg=1,\n",
    "# )\n",
    "\n",
    "# # monitor metrics on eval data during training\n",
    "# ncf.fit(\n",
    "#     train_data_M,\n",
    "#     neg_sampling=False, #for rating, this param is false else True\n",
    "#     verbose=2,\n",
    "#     eval_data=eval_data_M,\n",
    "#     metrics=[\"loss\"],\n",
    "# )\n",
    "\n",
    "# # do final evaluation on test data\n",
    "# evaluate(\n",
    "#     model=ncf,\n",
    "#     data=test_data_M,\n",
    "#     neg_sampling=False,\n",
    "#     metrics=[\"loss\"],\n",
    "# )"
   ]
  },
  {
   "cell_type": "code",
   "execution_count": 14,
   "metadata": {},
   "outputs": [],
   "source": [
    "# ncf = NCF(\n",
    "#     task=\"rating\",\n",
    "#     data_info=data_info_F,\n",
    "#     loss_type=\"cross_entropy\",\n",
    "#     embed_size=16,\n",
    "#     n_epochs=20,\n",
    "#     lr=1e-3,\n",
    "#     batch_size=2048,\n",
    "#     num_neg=1,\n",
    "# )\n",
    "\n",
    "# # monitor metrics on eval data during training\n",
    "# ncf.fit(\n",
    "#     train_data_F,\n",
    "#     neg_sampling=False, #for rating, this param is false else True\n",
    "#     verbose=2,\n",
    "#     eval_data=eval_data_F,\n",
    "#     metrics=[\"loss\"],\n",
    "# )\n",
    "\n",
    "# # do final evaluation on test data\n",
    "# evaluate(\n",
    "#     model=ncf,\n",
    "#     data=test_data_F,\n",
    "#     neg_sampling=False,\n",
    "#     metrics=[\"loss\"],\n",
    "# )"
   ]
  },
  {
   "cell_type": "code",
   "execution_count": 15,
   "metadata": {},
   "outputs": [],
   "source": [
    "# # predict preference of user 5755 to item 110\n",
    "# ncf.predict(user=5755, item=110)\n",
    "\n",
    "# # recommend 10items for user 5755\n",
    "# ncf.recommend_user(user=5755, n_rec=10)"
   ]
  },
  {
   "cell_type": "code",
   "execution_count": null,
   "metadata": {},
   "outputs": [],
   "source": []
  }
 ],
 "metadata": {
  "kernelspec": {
   "display_name": "Python 3",
   "language": "python",
   "name": "python3"
  },
  "language_info": {
   "codemirror_mode": {
    "name": "ipython",
    "version": 3
   },
   "file_extension": ".py",
   "mimetype": "text/x-python",
   "name": "python",
   "nbconvert_exporter": "python",
   "pygments_lexer": "ipython3",
   "version": "3.9.13"
  }
 },
 "nbformat": 4,
 "nbformat_minor": 2
}
